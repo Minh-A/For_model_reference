{
  "nbformat": 4,
  "nbformat_minor": 0,
  "metadata": {
    "colab": {
      "name": "유전자 알고리즘_깃허브.ipynb",
      "provenance": [],
      "collapsed_sections": [],
      "authorship_tag": "ABX9TyMZM+l67Nih/w6rZIqXUesC",
      "include_colab_link": true
    },
    "kernelspec": {
      "name": "python3",
      "display_name": "Python 3"
    },
    "accelerator": "GPU"
  },
  "cells": [
    {
      "cell_type": "markdown",
      "metadata": {
        "id": "view-in-github",
        "colab_type": "text"
      },
      "source": [
        "<a href=\"https://colab.research.google.com/github/Minh-A/For_model_reference/blob/main/Gene_Algorithm.ipynb\" target=\"_parent\"><img src=\"https://colab.research.google.com/assets/colab-badge.svg\" alt=\"Open In Colab\"/></a>"
      ]
    },
    {
      "cell_type": "markdown",
      "metadata": {
        "id": "tbEUQJSP17ei"
      },
      "source": [
        "# 유전자 알고리즘\n",
        "* K-Means 클러스터링이 메인이 되어 자유전자를 생성"
      ]
    },
    {
      "cell_type": "code",
      "metadata": {
        "id": "_RHlb44U1586"
      },
      "source": [
        "import pandas as pd\n",
        "import numpy as np\n",
        "import os\n",
        "import glob\n",
        "import random\n",
        "\n",
        "import warnings\n",
        "warnings.filterwarnings(\"ignore\")\n",
        "\n",
        "train = glob.glob('/content/drive/MyDrive/Colab Notebooks/Auto_Analisys/file/*.csv')\n",
        "temp = pd.read_csv(train[6], encoding='cp949', index_col= 'Unnamed: 0')\n",
        "dataset = temp.iloc[0:40]\n",
        "dataset = dataset.loc[::-1].reset_index(drop = True)  # 위아래 뒤집기(날짜 뒤집기)\n",
        "da = dataset.iloc[:,[2,3,4,6,7,8]]\n",
        "\n",
        "# K-Means 모델\n",
        "from sklearn.cluster import KMeans\n",
        "import matplotlib.pyplot  as plt\n",
        "\n",
        "k = 3\n",
        "# create model and prediction\n",
        "model = KMeans(n_clusters=k, algorithm='elkan')\n",
        "model.fit(da)\n",
        "predict = pd.DataFrame(model.predict(da))\n",
        "predict.columns=['predict']\n",
        "\n",
        "final_da = pd.DataFrame(np.hstack((predict, da)))\n"
      ],
      "execution_count": null,
      "outputs": []
    },
    {
      "cell_type": "code",
      "metadata": {
        "id": "5g9a422D1l1h"
      },
      "source": [
        "# 유전자 알고리즘 210117\n",
        "# 첫 번째 모듈\n",
        "import random\n",
        "import copy\n",
        "\n",
        "k_result = 2  # K-Means 결과 정하기\n",
        "aaa =  copy.deepcopy(final_da.iloc[39,1:])  # 시작행 초기화 (코드 실행시 마다)\n",
        "branch = 1  # 나뭇가지\n",
        "child = pd.DataFrame()  # 생존한 아이들\n",
        "\n",
        "\n",
        "while 1:  # 1은 무한반복을 의미\n",
        "\n",
        "  # 100개의 유전자 생성\n",
        "  for i in range(100):\n",
        "\n",
        "    # 교차할 유전자군 (랜덤)\n",
        "    ge_fa = random.randint(0,2)  # 유전자군 랜덤\n",
        "    ge_fadata = final_da.loc[final_da.iloc[:,0] == ge_fa,1:].reset_index(drop = True)  # 유전자 군\n",
        "\n",
        "    # 유전자와 속성 선택\n",
        "    ge_num = random.randint(0,len(ge_fadata) - 1)  # 행 선택(유전자 선택)\n",
        "    ge_sel1 = random.randint(1,2)  # 속성 선택\n",
        "    ge_sel2 = random.randint(3,4)\n",
        "    ge_sel3 = random.randint(5,6)\n",
        "    ge_sel = list([ge_sel1, ge_sel2, ge_sel3])\n",
        "    sel = ge_fadata.loc[ge_num, ge_sel]  # 선택된 행렬에 대한 \n",
        "\n",
        "    # 정상 유전자 교차\n",
        "    aaa.loc[ge_sel] = sel.values\n",
        "\n",
        "    # 돌연변이 생성 (유전자 1회 생성마다 30% 확률로 돌연변이 등장)\n",
        "    if random.random() <= 0.3:\n",
        "      mutation1 = random.randint(ge_fadata.loc[:,ge_sel1].min(), ge_fadata.loc[:,ge_sel1].max())\n",
        "      mutation2 = random.randint(ge_fadata.loc[:,ge_sel2].min(), ge_fadata.loc[:,ge_sel2].max())\n",
        "      mutation3 = random.randint(ge_fadata.loc[:,ge_sel3].min(), ge_fadata.loc[:,ge_sel3].max())\n",
        "      mutation = list([mutation1, mutation2, mutation3])\n",
        "      aaa.loc[ge_sel] = mutation\n",
        "    \n",
        "    # 생성된 아이들\n",
        "    child = child.append(aaa)\n",
        "\n",
        "  # 생성된 아이들로 모델 예측\n",
        "  predict = pd.DataFrame(model.predict(child))\n",
        "\n",
        "  # 살아남은 아이들 랜덤 하나만 생존\n",
        "  child2 = pd.DataFrame(np.hstack((predict, child)))\n",
        "  child = child2.loc[child2[0] == k_result, :].iloc[:,1:]  # 원하던 결과랑 같은 것들\n",
        "\n",
        "  # 나뭇가지 표시\n",
        "  print('%s branch' % branch)\n",
        "  branch += 1\n",
        "  \n",
        "  # 1000명만 생성하고 전체 반복문 종료\n",
        "  # print('중복 행: ',child[child.duplicated()])  # 중복행 찾기\n",
        "  child = child.drop_duplicates()  # 중복 행 제거\n",
        "\n",
        "  child = child.reset_index(drop = True)\n",
        "\n",
        "  if len(child) >= 1000:\n",
        "    break\n",
        "\n",
        "# 생성된 아이들 확인\n",
        "child"
      ],
      "execution_count": null,
      "outputs": []
    },
    {
      "cell_type": "code",
      "metadata": {
        "id": "4NOHEr4h1uMe"
      },
      "source": [
        ""
      ],
      "execution_count": null,
      "outputs": []
    },
    {
      "cell_type": "code",
      "metadata": {
        "id": "YGCHYWHR1uQ0"
      },
      "source": [
        ""
      ],
      "execution_count": null,
      "outputs": []
    },
    {
      "cell_type": "code",
      "metadata": {
        "id": "N4tBSZQ61uTO"
      },
      "source": [
        ""
      ],
      "execution_count": null,
      "outputs": []
    },
    {
      "cell_type": "code",
      "metadata": {
        "id": "Opq-pnqj1uVn"
      },
      "source": [
        ""
      ],
      "execution_count": null,
      "outputs": []
    },
    {
      "cell_type": "code",
      "metadata": {
        "id": "BpoOuxBU1uYO"
      },
      "source": [
        ""
      ],
      "execution_count": null,
      "outputs": []
    }
  ]
}